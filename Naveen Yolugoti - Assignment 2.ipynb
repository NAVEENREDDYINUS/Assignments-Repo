{
 "cells": [
  {
   "cell_type": "markdown",
   "metadata": {},
   "source": [
    "# Task 1"
   ]
  },
  {
   "cell_type": "markdown",
   "metadata": {},
   "source": [
    "### 1.1 Write a Python Program to implement your own myreduce() function which works exactly like Python's built-in function reduce()"
   ]
  },
  {
   "cell_type": "code",
   "execution_count": 220,
   "metadata": {},
   "outputs": [
    {
     "name": "stdout",
     "output_type": "stream",
     "text": [
      "55\n"
     ]
    }
   ],
   "source": [
    "# Answer 1:\n",
    "\n",
    "#This function performs addition of 2 numbers\n",
    "def my_add(a,b):\n",
    "    return a+b\n",
    "\n",
    "# This is a CUSTOM REDUCE Function\n",
    "def myreduce(func,lst):\n",
    "    a=0 #since we are doing addition, we can start with a fixed value of zero\n",
    "    for i in lst:\n",
    "        a=func(a,i)\n",
    "    return a\n",
    "\n",
    "lst=[1,2,3,4,5,6,7,8,9,10]\n",
    "\n",
    "# This custom Reduce function performs addition of all numbers in the sequence and generates a single result.\n",
    "print(myreduce(my_add,lst))"
   ]
  },
  {
   "cell_type": "code",
   "execution_count": 20,
   "metadata": {},
   "outputs": [
    {
     "name": "stdout",
     "output_type": "stream",
     "text": [
      "120\n"
     ]
    }
   ],
   "source": [
    "# Answer 2:\n",
    "\n",
    "def my_multi(a,b):\n",
    "    return a*b\n",
    "\n",
    "def myreduce(func,lst):\n",
    "    # Get first item in sequence and assign to result\n",
    "    a=lst[0] # since we are using multiplication operator in this function we can't start with zero as resut will be 0 when multiplied, so I am assigning the first value of the list here.\n",
    "    for i in lst[1:]:\n",
    "        a=func(a,i)\n",
    "    return a\n",
    "\n",
    "lst1=[1,2,3,4,5]\n",
    "\n",
    "print(myreduce(my_multi,lst1))"
   ]
  },
  {
   "cell_type": "markdown",
   "metadata": {},
   "source": [
    "### 1.2 Write a Python program to implement your own myfilter() function which works exactly like Python's built-in function filter()"
   ]
  },
  {
   "cell_type": "code",
   "execution_count": 239,
   "metadata": {},
   "outputs": [
    {
     "data": {
      "text/plain": [
       "[2, 4, 6, 8, 10]"
      ]
     },
     "execution_count": 239,
     "metadata": {},
     "output_type": "execute_result"
    }
   ],
   "source": [
    "# This function checks for even numbers\n",
    "def even_check(num):\n",
    "    '''\n",
    "    This function checks if a number is even and returns a boolean value.\n",
    "    '''\n",
    "    if num%2 ==0:\n",
    "        return True\n",
    "\n",
    "# Custom filter function\n",
    "def myfilter(func,lst):\n",
    "    # Initializing empty list \n",
    "    '''\n",
    "    This custom function works exactly like Python's built-in function filter()\n",
    "    '''\n",
    "    a=[]\n",
    "    # iterate over sequence of items in sequence and apply filter function\n",
    "    for i in lst:\n",
    "        if func(i):\n",
    "            a.append(i)\n",
    "    return a\n",
    "\n",
    "# This custom filter function checks for even numbers in a sequence and generates a output sequence.\n",
    "myfilter(even_check,[1,2,3,4,5,6,7,8,9,10])"
   ]
  },
  {
   "cell_type": "markdown",
   "metadata": {},
   "source": [
    "### 2. Implement List comprehensions to produce the following lists.\n",
    "### Write List comprehensions to produce the following Lists\n",
    "#### ['A', 'C', 'A', 'D', 'G', 'I', ’L’, ‘ D’]\n",
    "#### ['x', 'xx', 'xxx', 'xxxx', 'y', 'yy', 'yyy', 'yyyy', 'z', 'zz', 'zzz', 'zzzz']\n",
    "#### ['x', 'y', 'z', 'xx', 'yy', 'zz', 'xx', 'yy', 'zz', 'xxxx', 'yyyy', 'zzzz']\n",
    "#### [[2], [3], [4], [3], [4], [5], [4], [5], [6]]\n",
    "#### [[2, 3, 4, 5], [3, 4, 5, 6], [4, 5, 6, 7], [5, 6, 7, 8]]\n",
    "#### [(1, 1), (2, 1), (3, 1), (1, 2), (2, 2), (3, 2), (1, 3), (2, 3), (3, 3)]"
   ]
  },
  {
   "cell_type": "code",
   "execution_count": 157,
   "metadata": {},
   "outputs": [
    {
     "name": "stdout",
     "output_type": "stream",
     "text": [
      "['A', 'C', 'A', 'D', 'G', 'I', 'L', 'D']\n",
      "['x', 'xx', 'xxx', 'xxxx', 'y', 'yy', 'yyy', 'yyyy', 'z', 'zz', 'zzz', 'zzzz']\n",
      "['x', 'y', 'z', 'xx', 'yy', 'zz', 'xxx', 'yyy', 'zzz', 'xxxx', 'yyyy', 'zzzz']\n",
      "[[2], [3], [4], [3], [4], [5], [4], [5], [6]]\n",
      "[[2, 3, 4, 5], [3, 4, 5, 6], [4, 5, 6, 7], [5, 6, 7, 8]]\n",
      "[(1, 1), (2, 1), (3, 1), (1, 2), (2, 2), (3, 2), (1, 3), (2, 3), (3, 3)]\n"
     ]
    }
   ],
   "source": [
    "#########\n",
    "st='ACADGILD'\n",
    "list_comp1 = [i for i in st]\n",
    "print(list_comp1)\n",
    "\n",
    "#########\n",
    "list_comp2 = [i*j for i in ['x','y','z'] for j in range(1,5)]\n",
    "print(list_comp2)\n",
    "\n",
    "#########\n",
    "list_comp3 = [i*j for i in range(1,5) for j in ['x','y','z']]\n",
    "print(list_comp3)\n",
    "\n",
    "#########\n",
    "list_comp4 = [[i + j] for i in [0, 1, 2] for j in range(2, 5)]\n",
    "print(list_comp4)\n",
    "\n",
    "#########\n",
    "list_comp5 = [[i + j for i in [0, 1, 2, 3]] for j in range(2, 6)]\n",
    "print(list_comp5)\n",
    "\n",
    "#########\n",
    "list_comp6 = [(j,i) for i in range(1,4) for j in range(1,4)]\n",
    "print(list_comp6)"
   ]
  },
  {
   "cell_type": "markdown",
   "metadata": {},
   "source": [
    "### 3. Implement a function longestWord() that takes a list of words and returns the longest one."
   ]
  },
  {
   "cell_type": "code",
   "execution_count": 217,
   "metadata": {},
   "outputs": [
    {
     "name": "stdout",
     "output_type": "stream",
     "text": [
      "listcomprehension\n"
     ]
    }
   ],
   "source": [
    "# Answer 1:\n",
    "def longestword(seq):\n",
    "    '''\n",
    "    This function takes list of words and returns the longest word in that list.\n",
    "    '''\n",
    "    max_length=0\n",
    "    max_word=''\n",
    "    for i in seq:\n",
    "        if len(i)>max_length:\n",
    "            max_length=len(i)\n",
    "            max_word=i\n",
    "    return max_word\n",
    "\n",
    "\n",
    "lst=['ant','tuple','string','listcomprehension','dictionary']\n",
    "print(longestword(lst))"
   ]
  },
  {
   "cell_type": "code",
   "execution_count": 219,
   "metadata": {},
   "outputs": [
    {
     "name": "stdout",
     "output_type": "stream",
     "text": [
      "PYTHON\n"
     ]
    }
   ],
   "source": [
    "# Answer 2:\n",
    "def longestword(words_list):\n",
    "    word_len = []\n",
    "    for n in words_list:\n",
    "        word_len.append((len(n), n))\n",
    "    word_len.sort()\n",
    "    return word_len[-1][1]\n",
    "\n",
    "print(longestword([\"SQL\", \"JAVA\", \"PYTHON\"]))"
   ]
  },
  {
   "cell_type": "code",
   "execution_count": null,
   "metadata": {},
   "outputs": [],
   "source": []
  },
  {
   "cell_type": "markdown",
   "metadata": {},
   "source": [
    "# Task 2"
   ]
  },
  {
   "cell_type": "markdown",
   "metadata": {},
   "source": [
    "### 1.1 Write a Python Program(with class concepts) to find the area of the triangle using the below formula.\n",
    "### area = (s*(s-a)*(s-b)*(s-c)) ** 0.5\n",
    "###  Function to take the length of the sides of triangle from user should be defined in the parent class and function to calculate the area should be defined in subclass."
   ]
  },
  {
   "cell_type": "code",
   "execution_count": 243,
   "metadata": {},
   "outputs": [
    {
     "name": "stdout",
     "output_type": "stream",
     "text": [
      "10.825317547305483\n"
     ]
    }
   ],
   "source": [
    "# Answer 1:\n",
    "# Traingle is the parent class in which we are defining sides of triangle\n",
    "class Triangle:\n",
    "    def __init__(self,a,b,c):\n",
    "        self.a = a\n",
    "        self.b = b\n",
    "        self.c = c\n",
    "\n",
    "# Tri_area is the child class in which we are inheriting the properties of Triangle Parents class\n",
    "class Tri_area(Triangle):\n",
    "    def area(self):\n",
    "        # first we will calculate the semi-perimeter of triangle (s) and then we will calculate area.\n",
    "        s = (self.a + self.b + self.c)/2.0\n",
    "        return (s*(s-self.a)*(s-self.b)*(s-self.c))**0.5\n",
    "\n",
    "trikona = Tri_area(5,5,5)\n",
    "print(trikona.area())"
   ]
  },
  {
   "cell_type": "code",
   "execution_count": 2,
   "metadata": {},
   "outputs": [
    {
     "name": "stdout",
     "output_type": "stream",
     "text": [
      "Enter side a 5\n",
      "Enter side b 5\n",
      "Enter side c 5\n",
      "10.825317547305483\n"
     ]
    }
   ],
   "source": [
    "# Answer 2:\n",
    "class Parent():\n",
    "    def __init__(self):\n",
    "        self.a=float(input(\"Enter side a \"))\n",
    "        self.b=float(input(\"Enter side b \"))\n",
    "        self.c=float(input(\"Enter side c \"))\n",
    "        \n",
    "        \n",
    "class Child(Parent):\n",
    "    def __init__(self):\n",
    "        super().__init__()\n",
    "        \n",
    "    def calc_area(self):\n",
    "        s=(self.a+self.b+self.c)/2.0\n",
    "        self.area = (s*(s-self.a)*(s-self.b)*(s-self.c)) ** 0.5\n",
    "        return self.area\n",
    "    \n",
    "c=Child()\n",
    "print(c.calc_area())"
   ]
  },
  {
   "cell_type": "markdown",
   "metadata": {},
   "source": [
    "### 1.2 Write a function filter_long_words() that takes a list of words and an integer n and returns the list of words that are longer than n."
   ]
  },
  {
   "cell_type": "code",
   "execution_count": 228,
   "metadata": {},
   "outputs": [
    {
     "name": "stdout",
     "output_type": "stream",
     "text": [
      "['string', 'listcomprehension', 'dictionary']\n"
     ]
    }
   ],
   "source": [
    "def filter_long_words(words_list,n):\n",
    "    '''\n",
    "    Description: This function takes list of words and integer n and returns the lists of words that are greater than n\n",
    "    '''\n",
    "    max_word=[]\n",
    "    for i in words_list:\n",
    "        if len(i)>n:\n",
    "            max_word.append(i)\n",
    "    return max_word\n",
    "\n",
    "lst=['ant','tuple','string','listcomprehension','dictionary']\n",
    "print(filter_long_words(lst,5))"
   ]
  },
  {
   "cell_type": "markdown",
   "metadata": {},
   "source": [
    "### 2.1 Write a Python program using function concept that maps list of words into a list of integers representing the lengths of the corresponding words .\n",
    "#### Hint: If a list [ ab,cde,erty] is passed on to the python function output should come as [2,3,4]\n",
    "#### Here 2,3 and 4 are the lengths of the words in the list."
   ]
  },
  {
   "cell_type": "code",
   "execution_count": 231,
   "metadata": {},
   "outputs": [
    {
     "name": "stdout",
     "output_type": "stream",
     "text": [
      "[3, 5, 6, 17, 10]\n"
     ]
    }
   ],
   "source": [
    "def wordlist_to_int(seq):\n",
    "    '''\n",
    "    This function converts the list of words etered into list of numbers based on the length of words in a list.\n",
    "    '''\n",
    "    max_word=[]\n",
    "    for i in seq:\n",
    "        max_word.append(len(i))\n",
    "    return max_word\n",
    "\n",
    "lst=['ant','tuple','string','listcomprehension','dictionary']\n",
    "print(wordlist_to_int(lst))"
   ]
  },
  {
   "cell_type": "markdown",
   "metadata": {},
   "source": [
    "### 2.2 Write a Python function which takes a character (i.e. a string of length 1) and returns True if it is a vowel, False otherwise."
   ]
  },
  {
   "cell_type": "code",
   "execution_count": 240,
   "metadata": {},
   "outputs": [
    {
     "data": {
      "text/plain": [
       "True"
      ]
     },
     "execution_count": 240,
     "metadata": {},
     "output_type": "execute_result"
    }
   ],
   "source": [
    "def char_vowel(alphabet):\n",
    "    '''\n",
    "    this function return True if alphabet entered is a vowel or else it will return False.\n",
    "    '''\n",
    "    if alphabet.lower() in 'aeiou':\n",
    "        return True\n",
    "    else:\n",
    "        return False\n",
    "\n",
    "char_vowel('e')"
   ]
  },
  {
   "cell_type": "code",
   "execution_count": null,
   "metadata": {},
   "outputs": [],
   "source": []
  }
 ],
 "metadata": {
  "kernelspec": {
   "display_name": "Python 3",
   "language": "python",
   "name": "python3"
  },
  "language_info": {
   "codemirror_mode": {
    "name": "ipython",
    "version": 3
   },
   "file_extension": ".py",
   "mimetype": "text/x-python",
   "name": "python",
   "nbconvert_exporter": "python",
   "pygments_lexer": "ipython3",
   "version": "3.7.1"
  }
 },
 "nbformat": 4,
 "nbformat_minor": 2
}
